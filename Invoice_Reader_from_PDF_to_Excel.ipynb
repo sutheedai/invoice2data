{
  "nbformat": 4,
  "nbformat_minor": 0,
  "metadata": {
    "colab": {
      "name": "Invoice Reader from PDF to Excel",
      "provenance": [],
      "authorship_tag": "ABX9TyPi9cZvSh3uIAV1qZJR0lUG",
      "include_colab_link": true
    },
    "kernelspec": {
      "name": "python3",
      "display_name": "Python 3"
    }
  },
  "cells": [
    {
      "cell_type": "markdown",
      "metadata": {
        "id": "view-in-github",
        "colab_type": "text"
      },
      "source": [
        "<a href=\"https://colab.research.google.com/github/sutheedai/invoice2data/blob/main/Invoice_Reader_from_PDF_to_Excel.ipynb\" target=\"_parent\"><img src=\"https://colab.research.google.com/assets/colab-badge.svg\" alt=\"Open In Colab\"/></a>"
      ]
    },
    {
      "cell_type": "markdown",
      "metadata": {
        "id": "koVCyPImmIPl"
      },
      "source": [
        "## **1. Install pdfplumber library**"
      ]
    },
    {
      "cell_type": "code",
      "metadata": {
        "colab": {
          "base_uri": "https://localhost:8080/"
        },
        "id": "mSDdmpbP-veR",
        "outputId": "37eccafe-d9f8-4d88-c2bd-1760ee82a978"
      },
      "source": [
        "!pip install pdfplumber"
      ],
      "execution_count": 1,
      "outputs": [
        {
          "output_type": "stream",
          "text": [
            "Collecting pdfplumber\n",
            "\u001b[?25l  Downloading https://files.pythonhosted.org/packages/8c/27/7e2723bfe422fa6af61c1bf05cc8d2bb4128e169ab8ffffc01f3cb1e8ace/pdfplumber-0.5.25.tar.gz (42kB)\n",
            "\u001b[K     |████████████████████████████████| 51kB 2.8MB/s \n",
            "\u001b[?25hCollecting pdfminer.six==20200517\n",
            "\u001b[?25l  Downloading https://files.pythonhosted.org/packages/b0/c0/ef1c8758bbd86edb10b5443700aac97d0ba27a9ca2e7696db8cd1fdbd5a8/pdfminer.six-20200517-py3-none-any.whl (5.6MB)\n",
            "\u001b[K     |████████████████████████████████| 5.6MB 5.7MB/s \n",
            "\u001b[?25hRequirement already satisfied: Pillow>=7.0.0 in /usr/local/lib/python3.6/dist-packages (from pdfplumber) (7.0.0)\n",
            "Collecting Wand\n",
            "\u001b[?25l  Downloading https://files.pythonhosted.org/packages/98/08/096b76e9211ca5ef338791100b76375555cb4082a53496b1c1d5897ee13c/Wand-0.6.5-py2.py3-none-any.whl (138kB)\n",
            "\u001b[K     |████████████████████████████████| 143kB 39.7MB/s \n",
            "\u001b[?25hRequirement already satisfied: chardet; python_version > \"3.0\" in /usr/local/lib/python3.6/dist-packages (from pdfminer.six==20200517->pdfplumber) (3.0.4)\n",
            "Collecting pycryptodome\n",
            "\u001b[?25l  Downloading https://files.pythonhosted.org/packages/2b/6f/7e38d7c97fbbc3987539c804282c33f56b6b07381bf2390deead696440c5/pycryptodome-3.9.9-cp36-cp36m-manylinux1_x86_64.whl (13.7MB)\n",
            "\u001b[K     |████████████████████████████████| 13.7MB 325kB/s \n",
            "\u001b[?25hRequirement already satisfied: sortedcontainers in /usr/local/lib/python3.6/dist-packages (from pdfminer.six==20200517->pdfplumber) (2.3.0)\n",
            "Building wheels for collected packages: pdfplumber\n",
            "  Building wheel for pdfplumber (setup.py) ... \u001b[?25l\u001b[?25hdone\n",
            "  Created wheel for pdfplumber: filename=pdfplumber-0.5.25-cp36-none-any.whl size=31560 sha256=ddf02803da5284ebd7c6ba8fd5205359b4301801d7c2588aaf71d319d8083cb5\n",
            "  Stored in directory: /root/.cache/pip/wheels/fc/bd/c8/a28e0008387d034112de3c7c3bf6dbefa25653909a6269e4ff\n",
            "Successfully built pdfplumber\n",
            "Installing collected packages: pycryptodome, pdfminer.six, Wand, pdfplumber\n",
            "Successfully installed Wand-0.6.5 pdfminer.six-20200517 pdfplumber-0.5.25 pycryptodome-3.9.9\n"
          ],
          "name": "stdout"
        }
      ]
    },
    {
      "cell_type": "markdown",
      "metadata": {
        "id": "B1Cn4HbB3-tg"
      },
      "source": [
        "## **2. Import neccessary to this environment**"
      ]
    },
    {
      "cell_type": "code",
      "metadata": {
        "id": "dnCkOmwS-zvp"
      },
      "source": [
        "import requests #ใช้ดึงข้อมูลจาก html (view page source)\r\n",
        "import pdfplumber #ใช้ดึงข้อมูลออกจาก pdf"
      ],
      "execution_count": 2,
      "outputs": []
    },
    {
      "cell_type": "markdown",
      "metadata": {
        "id": "mMpSy0x04MMl"
      },
      "source": [
        "## **3. Build download file function**"
      ]
    },
    {
      "cell_type": "code",
      "metadata": {
        "id": "cIqQQFNTAKCo"
      },
      "source": [
        "def download_file(url):\r\n",
        "    local_filename = url.split('/')[-1]\r\n",
        "    \r\n",
        "    with requests.get(url) as r:\r\n",
        "        with open(local_filename, 'wb') as f:\r\n",
        "            f.write(r.content)\r\n",
        "        \r\n",
        "    return local_filename"
      ],
      "execution_count": 3,
      "outputs": []
    },
    {
      "cell_type": "markdown",
      "metadata": {
        "id": "AgN_acJs4ntx"
      },
      "source": [
        "## **4. Define url**"
      ]
    },
    {
      "cell_type": "code",
      "metadata": {
        "id": "1L7zdonIR3RT"
      },
      "source": [
        "invoice_url1 = 'http://www.k-billing.com/example_invoices/professionalblue_example.pdf'"
      ],
      "execution_count": 33,
      "outputs": []
    },
    {
      "cell_type": "markdown",
      "metadata": {
        "id": "JMPXMheF4v3J"
      },
      "source": [
        "# **5. Deploy function**"
      ]
    },
    {
      "cell_type": "code",
      "metadata": {
        "id": "rTk1oj4sR37g"
      },
      "source": [
        "invoice = download_file(invoice_url1)"
      ],
      "execution_count": 55,
      "outputs": []
    },
    {
      "cell_type": "code",
      "metadata": {
        "id": "7CigEw6aR7ng"
      },
      "source": [
        "with pdfplumber.open(invoice) as pdf:\r\n",
        "    page = pdf.pages[0] #ดึงข้อมูลจากหน้าแรก\r\n",
        "    text1 = page.extract_text() #เอา text จากหน้าแรก"
      ],
      "execution_count": 76,
      "outputs": []
    },
    {
      "cell_type": "code",
      "metadata": {
        "id": "H6tZPbhXSDNO",
        "colab": {
          "base_uri": "https://localhost:8080/"
        },
        "outputId": "abe9cd8c-60b0-407a-8d63-329a4eb92e8f"
      },
      "source": [
        "print(text1[:1000]) #แสดงผลจาก text ของหน้าแรก 1000 8ecid"
      ],
      "execution_count": 77,
      "outputs": [
        {
          "output_type": "stream",
          "text": [
            "INVOICE\n",
            "Invoice No. I1083\n",
            "Account # C1006\n",
            "Date 08-14-2008\n",
            "Due By 08-31-2008\n",
            "Demo Company\n",
            "Phone : 111-222-3333 Terms None\n",
            "1234 Main Street E-Mail : 333-444-4444 PO No. PO1234\n",
            "Ashland, KY 41102 Web : http://www.ksoftware.net Sales Rep SalesPerson1\n",
            "Bill To Ship To\n",
            "Test Customer Test Customer\n",
            "1234 Main Street 1234 Main Street\n",
            "Ashland, KY 41101 Ashland,  41101\n",
            "CCooddee DDeessccrriippttiioonn QTY Price Line Total\n",
            "SKU1222 Test Import Name - Description Goes Here 1 $10.00 $10.00\n",
            "Labor - Example labor item. Quantity is number of hours spent,  1.5 $100.00 $150.00\n",
            "price is hourly rate. Quantity accepts decimal values.\n",
            "Notes\n",
            "An invoice note can go here. Multi-line and even multi-page notes are supported.\n",
            "PPaayymmeenntt  DDeettaaiillss\n",
            "Subtotal $160.00\n",
            "Shipping$10.00 Tax $0.78\n",
            "UPS Ground Total $170.78\n",
            "Payments (-) $0.00\n",
            "Balance Due $170.78\n",
            "An invoice footer can go here\n"
          ],
          "name": "stdout"
        }
      ]
    },
    {
      "cell_type": "code",
      "metadata": {
        "id": "p5BWVBaqSDrE"
      },
      "source": [
        "for row in text1.split('\\n'): \r\n",
        "    if row.startswith('Balance Due'): \r\n",
        "        balance = row.split()[-1]"
      ],
      "execution_count": 81,
      "outputs": []
    },
    {
      "cell_type": "code",
      "metadata": {
        "colab": {
          "base_uri": "https://localhost:8080/",
          "height": 35
        },
        "id": "YQZn9AZCwuoO",
        "outputId": "af2a0c80-7173-4495-8bc8-0c6b7ab7b3b9"
      },
      "source": [
        "balance"
      ],
      "execution_count": 82,
      "outputs": [
        {
          "output_type": "execute_result",
          "data": {
            "application/vnd.google.colaboratory.intrinsic+json": {
              "type": "string"
            },
            "text/plain": [
              "'$170.78'"
            ]
          },
          "metadata": {
            "tags": []
          },
          "execution_count": 82
        }
      ]
    },
    {
      "cell_type": "markdown",
      "metadata": {
        "id": "e9DeAsfern6_"
      },
      "source": [
        "# **Extra 1: Local PDF file**"
      ]
    },
    {
      "cell_type": "code",
      "metadata": {
        "id": "Gocau5OlSHn6"
      },
      "source": [
        "# Upload PDF file from local\r\n",
        "from google.colab import files\r\n",
        "uploaded = files.upload()"
      ],
      "execution_count": null,
      "outputs": []
    },
    {
      "cell_type": "code",
      "metadata": {
        "id": "-5Ax_hgeSKkk"
      },
      "source": [
        "# Define file path\r\n",
        "invoice_url2 = '/content/professionalblue_example.pdf'"
      ],
      "execution_count": null,
      "outputs": []
    },
    {
      "cell_type": "code",
      "metadata": {
        "id": "u2XdivUeSLCy",
        "colab": {
          "base_uri": "https://localhost:8080/"
        },
        "outputId": "73232276-7c89-4fdf-e708-fcd60d7242d5"
      },
      "source": [
        "# Open file with \"pdfplumber.open()\" built-in function\r\n",
        "local_pdf =  pdfplumber.open(invoice_url2)\r\n",
        "print(type(local_pdf))\r\n",
        "\r\n",
        "# Check file type\r\n",
        "page = pdf.pages[0] # ในกรณีมีหลายหน้าเราสามารถกำหนดได้ว่าจะเอาหน้าไหนบ้าง\r\n",
        "print(type(page)"
      ],
      "execution_count": 39,
      "outputs": [
        {
          "output_type": "stream",
          "text": [
            "<class 'pdfplumber.pdf.PDF'>\n",
            "<class 'pdfplumber.page.Page'>\n"
          ],
          "name": "stdout"
        }
      ]
    },
    {
      "cell_type": "code",
      "metadata": {
        "id": "NWakG75aSMao",
        "colab": {
          "base_uri": "https://localhost:8080/"
        },
        "outputId": "66e8cd15-a404-466f-a9d1-a23f0bb9f111"
      },
      "source": [
        "# Extract \"TEXT\" from specified pages\r\n",
        "text2 = page.extract_text()\r\n",
        "print(text2) #แสดงผลคำทั้งหมด"
      ],
      "execution_count": 100,
      "outputs": [
        {
          "output_type": "stream",
          "text": [
            "<class 'str'>\n",
            "INVOICE\n",
            "Invoice No. I1083\n",
            "Account # C1006\n",
            "Date 08-14-2008\n",
            "Due By 08-31-2008\n",
            "Demo Company\n",
            "Phone : 111-222-3333 Terms None\n",
            "1234 Main Street E-Mail : 333-444-4444 PO No. PO1234\n",
            "Ashland, KY 41102 Web : http://www.ksoftware.net Sales Rep SalesPerson1\n",
            "Bill To Ship To\n",
            "Test Customer Test Customer\n",
            "1234 Main Street 1234 Main Street\n",
            "Ashland, KY 41101 Ashland,  41101\n",
            "CCooddee DDeessccrriippttiioonn QTY Price Line Total\n",
            "SKU1222 Test Import Name - Description Goes Here 1 $10.00 $10.00\n",
            "Labor - Example labor item. Quantity is number of hours spent,  1.5 $100.00 $150.00\n",
            "price is hourly rate. Quantity accepts decimal values.\n",
            "Notes\n",
            "An invoice note can go here. Multi-line and even multi-page notes are supported.\n",
            "PPaayymmeenntt  DDeettaaiillss\n",
            "Subtotal $160.00\n",
            "Shipping$10.00 Tax $0.78\n",
            "UPS Ground Total $170.78\n",
            "Payments (-) $0.00\n",
            "Balance Due $170.78\n",
            "An invoice footer can go here\n"
          ],
          "name": "stdout"
        }
      ]
    },
    {
      "cell_type": "code",
      "metadata": {
        "id": "yKNvZQga0ZUG"
      },
      "source": [
        "for row in text2.split('\\n'): \r\n",
        "    if row.startswith('Balance Due'): \r\n",
        "        balance = row.split()[-1]"
      ],
      "execution_count": 86,
      "outputs": []
    },
    {
      "cell_type": "code",
      "metadata": {
        "colab": {
          "base_uri": "https://localhost:8080/",
          "height": 35
        },
        "id": "eJWCznw90r5K",
        "outputId": "3d0c4fcc-45fb-406d-fdff-00eab4d1bd7e"
      },
      "source": [
        "balance"
      ],
      "execution_count": 88,
      "outputs": [
        {
          "output_type": "execute_result",
          "data": {
            "application/vnd.google.colaboratory.intrinsic+json": {
              "type": "string"
            },
            "text/plain": [
              "'$170.78'"
            ]
          },
          "metadata": {
            "tags": []
          },
          "execution_count": 88
        }
      ]
    },
    {
      "cell_type": "markdown",
      "metadata": {
        "id": "sRsOJXkl1FaR"
      },
      "source": [
        "# **Extra2: Extract table**"
      ]
    },
    {
      "cell_type": "code",
      "metadata": {
        "colab": {
          "base_uri": "https://localhost:8080/"
        },
        "id": "N_ss8lsqukQ2",
        "outputId": "fbc23053-3c31-468c-ad50-23f12ca9ef44"
      },
      "source": [
        "# Extract table from specified pages\r\n",
        "table = page.extract_table()\r\n",
        "table"
      ],
      "execution_count": 93,
      "outputs": [
        {
          "output_type": "execute_result",
          "data": {
            "text/plain": [
              "[['CCooddee DDeessccrriippttiioonn QTY Price Line Total',\n",
              "  None,\n",
              "  None,\n",
              "  None,\n",
              "  None],\n",
              " ['SKU1222',\n",
              "  'Test Import Name - Description Goes Here\\nLabor - Example labor item. Quantity is number of hours spent, \\nprice is hourly rate. Quantity accepts decimal values.',\n",
              "  '1\\n1.5',\n",
              "  '$10.00\\n$100.00',\n",
              "  '$10.00\\n$150.00'],\n",
              " ['Notes', None, None, None, None],\n",
              " ['An invoice note can go here. Multi-line and even multi-page notes are supported.',\n",
              "  None,\n",
              "  None,\n",
              "  None,\n",
              "  None],\n",
              " ['PPaayymmeenntt  DDeettaaiillss', None, None, None, None],\n",
              " ['', None, None, None, None]]"
            ]
          },
          "metadata": {
            "tags": []
          },
          "execution_count": 93
        }
      ]
    },
    {
      "cell_type": "code",
      "metadata": {
        "colab": {
          "base_uri": "https://localhost:8080/"
        },
        "id": "fpx5aHJ41R44",
        "outputId": "5aba1c7d-d7fa-4211-f818-4e608131d52c"
      },
      "source": [
        "table[0]"
      ],
      "execution_count": 96,
      "outputs": [
        {
          "output_type": "execute_result",
          "data": {
            "text/plain": [
              "['CCooddee DDeessccrriippttiioonn QTY Price Line Total',\n",
              " None,\n",
              " None,\n",
              " None,\n",
              " None]"
            ]
          },
          "metadata": {
            "tags": []
          },
          "execution_count": 96
        }
      ]
    },
    {
      "cell_type": "code",
      "metadata": {
        "colab": {
          "base_uri": "https://localhost:8080/",
          "height": 35
        },
        "id": "mm580FCL1_Am",
        "outputId": "0e256ca4-7c7c-4b57-b385-962000218320"
      },
      "source": [
        "table[0][0]"
      ],
      "execution_count": 97,
      "outputs": [
        {
          "output_type": "execute_result",
          "data": {
            "application/vnd.google.colaboratory.intrinsic+json": {
              "type": "string"
            },
            "text/plain": [
              "'CCooddee DDeessccrriippttiioonn QTY Price Line Total'"
            ]
          },
          "metadata": {
            "tags": []
          },
          "execution_count": 97
        }
      ]
    },
    {
      "cell_type": "code",
      "metadata": {
        "colab": {
          "base_uri": "https://localhost:8080/"
        },
        "id": "pYwCAq6L1Z26",
        "outputId": "9b3908f0-f41b-475c-c627-fe9511639944"
      },
      "source": [
        "table[1]"
      ],
      "execution_count": 119,
      "outputs": [
        {
          "output_type": "execute_result",
          "data": {
            "text/plain": [
              "['SKU1222',\n",
              " 'Test Import Name - Description Goes Here\\nLabor - Example labor item. Quantity is number of hours spent, \\nprice is hourly rate. Quantity accepts decimal values.',\n",
              " '1\\n1.5',\n",
              " '$10.00\\n$100.00',\n",
              " '$10.00\\n$150.00']"
            ]
          },
          "metadata": {
            "tags": []
          },
          "execution_count": 119
        }
      ]
    },
    {
      "cell_type": "code",
      "metadata": {
        "colab": {
          "base_uri": "https://localhost:8080/"
        },
        "id": "8VRXY8WlHioI",
        "outputId": "65383659-68ec-4410-f993-1b606ce79772"
      },
      "source": [
        "# Turn interested data to Dataframe\r\n",
        "data = [x.split('\\n') for x in table[1]]\r\n",
        "maxlen = max([len(x) for x in data])\r\n",
        "cols = ['ID', 'Desc', 'Qty', 'Price', 'Total']\r\n",
        "data = {k:v if len(v) == maxlen else v+['']*(maxlen-len(v)) for k,v in zip(cols, data)}\r\n",
        "\r\n",
        "df = pd.DataFrame.from_dict(data)\r\n",
        "\r\n",
        "print(df)"
      ],
      "execution_count": 131,
      "outputs": [
        {
          "output_type": "stream",
          "text": [
            "        ID                                               Desc  ...    Price    Total\n",
            "0  SKU1222           Test Import Name - Description Goes Here  ...   $10.00   $10.00\n",
            "1           Labor - Example labor item. Quantity is number...  ...  $100.00  $150.00\n",
            "2           price is hourly rate. Quantity accepts decimal...  ...                  \n",
            "\n",
            "[3 rows x 5 columns]\n"
          ],
          "name": "stdout"
        }
      ]
    },
    {
      "cell_type": "code",
      "metadata": {
        "id": "1fT14kupvOOW"
      },
      "source": [
        "# Save to csv\r\n",
        "df.to_csv('file_name.csv', encoding='utf-8')"
      ],
      "execution_count": 133,
      "outputs": []
    },
    {
      "cell_type": "markdown",
      "metadata": {
        "id": "ZQyeZZ5wxQpf"
      },
      "source": [
        "# **Extra 3: Extract several pages**"
      ]
    },
    {
      "cell_type": "code",
      "metadata": {
        "id": "CZn-hzxVxdLw"
      },
      "source": [
        ""
      ],
      "execution_count": null,
      "outputs": []
    }
  ]
}